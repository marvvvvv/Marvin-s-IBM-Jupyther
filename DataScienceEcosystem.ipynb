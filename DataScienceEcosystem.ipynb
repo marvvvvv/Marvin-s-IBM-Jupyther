{
 "cells": [
  {
   "cell_type": "markdown",
   "id": "bed7a514-bb47-4e32-aef5-40d8092025d7",
   "metadata": {},
   "source": [
    "# Data Science Tools and Ecosystem"
   ]
  },
  {
   "cell_type": "markdown",
   "id": "6fd5d3cf-6f48-4b5e-9e8f-7ecb3887d98c",
   "metadata": {
    "tags": []
   },
   "source": [
    "## In this notebook, Data Science Tools and Ecosystem are summarized."
   ]
  },
  {
   "cell_type": "markdown",
   "id": "8ecb83f9-eaa2-4993-bc0e-f6dfab0fc8ed",
   "metadata": {},
   "source": [
    "Some of the popular languages that Data Scientists use are:\n",
    "1. Python\n",
    "2. R\n",
    "3. Java\n",
    "4. Julia"
   ]
  },
  {
   "cell_type": "markdown",
   "id": "d6c43add-7c59-4435-b571-9857b35929ef",
   "metadata": {},
   "source": [
    "Some of the commonly used libraries used by Data Scientists include:\n",
    "1. Numpy\n",
    "2. Matplotlib\n",
    "3. Kera\n",
    "4. Panda"
   ]
  },
  {
   "cell_type": "markdown",
   "id": "913bd9c7-0719-408c-929c-02b1b5534d06",
   "metadata": {},
   "source": [
    "| Data Science Tools |\n",
    "|--------------------|\n",
    "| Weka               |\n",
    "| Pandas             |\n",
    "| Spark              |\n",
    "| Hadoop             |\n"
   ]
  },
  {
   "cell_type": "markdown",
   "id": "a5d82708-1e8a-4143-a442-6b7bc003d007",
   "metadata": {},
   "source": [
    "### Below are a few examples of evaluating arithmetic expressions in Python"
   ]
  },
  {
   "cell_type": "code",
   "execution_count": 3,
   "id": "16f16528-0e9e-4077-99c0-41abd5076e4e",
   "metadata": {
    "tags": []
   },
   "outputs": [
    {
     "data": {
      "text/plain": [
       "17"
      ]
     },
     "execution_count": 3,
     "metadata": {},
     "output_type": "execute_result"
    }
   ],
   "source": [
    "# This a simple arithmetic expression to mutiply then add integers.\n",
    "(3*4)+5"
   ]
  },
  {
   "cell_type": "code",
   "execution_count": 4,
   "id": "10f4e428-9ae3-4840-b0ca-39c06f399912",
   "metadata": {
    "tags": []
   },
   "outputs": [
    {
     "data": {
      "text/plain": [
       "3.3333333333333335"
      ]
     },
     "execution_count": 4,
     "metadata": {},
     "output_type": "execute_result"
    }
   ],
   "source": [
    "# This will convert 200 minutes to hours by diving by 60\n",
    "200/60"
   ]
  },
  {
   "cell_type": "markdown",
   "id": "045d3dff-874c-4298-8262-313dbae2a826",
   "metadata": {},
   "source": [
    "**Objectives:**\n",
    "- List of popular languages that Data Sciencists Use\n",
    "- Common libraries used by Data Scientists\n",
    "- Table of Data Science Tools\n",
    "- Examples of arithmetic expressions in Python"
   ]
  },
  {
   "cell_type": "markdown",
   "id": "7a87717d-0b21-40f2-8e7f-e6d43d736770",
   "metadata": {},
   "source": [
    "## Author\n",
    "Marvin Ng"
   ]
  },
  {
   "cell_type": "code",
   "execution_count": null,
   "id": "82542172-de45-456d-8c12-8b5ec3b94dd6",
   "metadata": {},
   "outputs": [],
   "source": []
  }
 ],
 "metadata": {
  "kernelspec": {
   "display_name": "Python",
   "language": "python",
   "name": "conda-env-python-py"
  },
  "language_info": {
   "codemirror_mode": {
    "name": "ipython",
    "version": 3
   },
   "file_extension": ".py",
   "mimetype": "text/x-python",
   "name": "python",
   "nbconvert_exporter": "python",
   "pygments_lexer": "ipython3",
   "version": "3.7.12"
  }
 },
 "nbformat": 4,
 "nbformat_minor": 5
}
